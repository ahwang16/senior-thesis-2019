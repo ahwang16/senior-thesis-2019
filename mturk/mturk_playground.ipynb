{
 "cells": [
  {
   "cell_type": "code",
   "execution_count": 9,
   "metadata": {},
   "outputs": [],
   "source": [
    "import math\n",
    "import numpy as np\n",
    "import pandas as pd\n",
    "from statsmodels.stats.inter_rater import fleiss_kappa"
   ]
  },
  {
   "cell_type": "code",
   "execution_count": 7,
   "metadata": {},
   "outputs": [],
   "source": [
    "batch1 = pd.read_csv(\"batch1_results.csv\")"
   ]
  },
  {
   "cell_type": "code",
   "execution_count": 17,
   "metadata": {},
   "outputs": [],
   "source": [
    "max_cat = max(batch1[\"Answer.num_clusters\"])"
   ]
  },
  {
   "cell_type": "code",
   "execution_count": 15,
   "metadata": {},
   "outputs": [
    {
     "data": {
      "text/plain": [
       "780"
      ]
     },
     "execution_count": 15,
     "metadata": {},
     "output_type": "execute_result"
    }
   ],
   "source": [
    "batch1.iloc[0][\"Input.index\"]"
   ]
  },
  {
   "cell_type": "code",
   "execution_count": 24,
   "metadata": {},
   "outputs": [],
   "source": [
    "batch1_arr = []\n",
    "placeholder = [0] * max_cat\n",
    "current_index = batch1.iloc[0][\"Input.index\"]\n",
    "\n",
    "for index, row in batch1.iterrows():\n",
    "    if row[\"Input.index\"] == current_index:\n",
    "        placeholder[row[\"Answer.num_clusters\"]-1] += 1\n",
    "    else:\n",
    "        batch1_arr.append(placeholder)\n",
    "        placeholder = [0] * max_cat\n",
    "        placeholder[row[\"Answer.num_clusters\"]-1] += 1\n",
    "        current_index = row[\"Input.index\"]"
   ]
  },
  {
   "cell_type": "code",
   "execution_count": 26,
   "metadata": {},
   "outputs": [
    {
     "data": {
      "text/plain": [
       "0.04560622914349271"
      ]
     },
     "execution_count": 26,
     "metadata": {},
     "output_type": "execute_result"
    }
   ],
   "source": [
    "fleiss_kappa(batch1_arr)"
   ]
  },
  {
   "cell_type": "code",
   "execution_count": 27,
   "metadata": {},
   "outputs": [
    {
     "data": {
      "text/plain": [
       "0.06561393955894355"
      ]
     },
     "execution_count": 27,
     "metadata": {},
     "output_type": "execute_result"
    }
   ],
   "source": [
    "batch2 = pd.read_csv(\"batch2_results.csv\")\n",
    "max_cat = max(batch2[\"Answer.num_clusters\"])\n",
    "batch2_arr = []\n",
    "placeholder = [0] * max_cat\n",
    "current_index = batch2.iloc[0][\"Input.index\"]\n",
    "\n",
    "for index, row in batch2.iterrows():\n",
    "    if row[\"Input.index\"] == current_index:\n",
    "        placeholder[row[\"Answer.num_clusters\"]-1] += 1\n",
    "    else:\n",
    "        batch2_arr.append(placeholder)\n",
    "        placeholder = [0] * max_cat\n",
    "        placeholder[row[\"Answer.num_clusters\"]-1] += 1\n",
    "        current_index = row[\"Input.index\"]\n",
    "        \n",
    "fleiss_kappa(batch2_arr)"
   ]
  },
  {
   "cell_type": "code",
   "execution_count": 44,
   "metadata": {},
   "outputs": [
    {
     "data": {
      "text/plain": [
       "0.08361476114454125"
      ]
     },
     "execution_count": 44,
     "metadata": {},
     "output_type": "execute_result"
    }
   ],
   "source": [
    "batch3 = pd.read_csv(\"batch3_results.csv\")\n",
    "max_cat = max(batch3[\"Answer.num_clusters\"])\n",
    "batch3_arr = []\n",
    "placeholder = [0] * max_cat\n",
    "current_index = batch3.iloc[0][\"Input.index\"]\n",
    "\n",
    "for index, row in batch3.iterrows():\n",
    "    if row[\"Input.index\"] == current_index:\n",
    "        placeholder[row[\"Answer.num_clusters\"]-1] += 1\n",
    "    else:\n",
    "        batch3_arr.append(placeholder)\n",
    "        placeholder = [0] * max_cat\n",
    "        placeholder[row[\"Answer.num_clusters\"]-1] += 1\n",
    "        current_index = row[\"Input.index\"]\n",
    "        \n",
    "fleiss_kappa(batch3_arr)"
   ]
  },
  {
   "cell_type": "code",
   "execution_count": 51,
   "metadata": {},
   "outputs": [
    {
     "data": {
      "text/plain": [
       "0.0053611221343753575"
      ]
     },
     "execution_count": 51,
     "metadata": {},
     "output_type": "execute_result"
    }
   ],
   "source": [
    "all_batches = batch1_arr + batch2_arr + batch3_arr\n",
    "fleiss_kappa(all_batches)"
   ]
  },
  {
   "cell_type": "code",
   "execution_count": 50,
   "metadata": {},
   "outputs": [
    {
     "data": {
      "text/plain": [
       "(12, 12, 12)"
      ]
     },
     "execution_count": 50,
     "metadata": {},
     "output_type": "execute_result"
    }
   ],
   "source": [
    "len(batch1_arr[0]), len(batch2_arr[0]), len(batch3_arr[0])"
   ]
  },
  {
   "cell_type": "code",
   "execution_count": 39,
   "metadata": {},
   "outputs": [],
   "source": [
    "batch2_arr = np.pad(batch2_arr, ((0, 0), (0, 4)), mode=\"constant\")"
   ]
  },
  {
   "cell_type": "code",
   "execution_count": 49,
   "metadata": {},
   "outputs": [],
   "source": [
    "batch3_arr = np.pad(batch3_arr, ((0, 0), (0, 4)), mode=\"constant\")"
   ]
  },
  {
   "cell_type": "code",
   "execution_count": 4,
   "metadata": {},
   "outputs": [],
   "source": [
    "wf = pd.read_csv(\"experimental_wrf_clusters.csv\")"
   ]
  },
  {
   "cell_type": "code",
   "execution_count": 34,
   "metadata": {},
   "outputs": [],
   "source": [
    "def logistic(x):\n",
    "    return 1 / (1 + math.e**(-x))\n",
    "\n",
    "csc2 = []\n",
    "csc3 = []\n",
    "\n",
    "for index, row in wf.iterrows():\n",
    "    if row[\"num_clusters\"] > 0:\n",
    "        size = len(row[\"cluster\"].split(\", \"))\n",
    "        csc = logistic(size/row[\"num_clusters\"])\n",
    "        if row[\"corpus\"] == 2:\n",
    "            csc2.append(csc)\n",
    "        else:\n",
    "            csc3.append(csc)"
   ]
  },
  {
   "cell_type": "code",
   "execution_count": 24,
   "metadata": {},
   "outputs": [],
   "source": [
    "wf.fillna(0, inplace=True)"
   ]
  },
  {
   "cell_type": "code",
   "execution_count": 35,
   "metadata": {},
   "outputs": [
    {
     "data": {
      "text/plain": [
       "(0.9585020970857875, 0.8311982096797292)"
      ]
     },
     "execution_count": 35,
     "metadata": {},
     "output_type": "execute_result"
    }
   ],
   "source": [
    "np.mean(csc2), np.mean(csc3)"
   ]
  },
  {
   "cell_type": "code",
   "execution_count": 38,
   "metadata": {},
   "outputs": [
    {
     "data": {
      "text/plain": [
       "2.0    10\n",
       "0.0     8\n",
       "3.0     2\n",
       "Name: num_clusters, dtype: int64"
      ]
     },
     "execution_count": 38,
     "metadata": {},
     "output_type": "execute_result"
    }
   ],
   "source": [
    "wf.loc[wf[\"corpus\"] == 3, \"num_clusters\"].value_counts()"
   ]
  },
  {
   "cell_type": "code",
   "execution_count": 36,
   "metadata": {},
   "outputs": [
    {
     "data": {
      "text/html": [
       "<div>\n",
       "<style scoped>\n",
       "    .dataframe tbody tr th:only-of-type {\n",
       "        vertical-align: middle;\n",
       "    }\n",
       "\n",
       "    .dataframe tbody tr th {\n",
       "        vertical-align: top;\n",
       "    }\n",
       "\n",
       "    .dataframe thead th {\n",
       "        text-align: right;\n",
       "    }\n",
       "</style>\n",
       "<table border=\"1\" class=\"dataframe\">\n",
       "  <thead>\n",
       "    <tr style=\"text-align: right;\">\n",
       "      <th></th>\n",
       "      <th>corpus</th>\n",
       "      <th>cluster</th>\n",
       "      <th>num_clusters</th>\n",
       "      <th>new_cluster</th>\n",
       "    </tr>\n",
       "  </thead>\n",
       "  <tbody>\n",
       "    <tr>\n",
       "      <th>0</th>\n",
       "      <td>2</td>\n",
       "      <td>dms, msgs, msg</td>\n",
       "      <td>1.0</td>\n",
       "      <td>dms msgs msg</td>\n",
       "    </tr>\n",
       "    <tr>\n",
       "      <th>1</th>\n",
       "      <td>2</td>\n",
       "      <td>em, do, moro, na, nas, da, e</td>\n",
       "      <td>4.0</td>\n",
       "      <td>do em da; na nas; moro; e</td>\n",
       "    </tr>\n",
       "    <tr>\n",
       "      <th>2</th>\n",
       "      <td>2</td>\n",
       "      <td>logo, num, os, com, um, outro, belo, mone, ou,...</td>\n",
       "      <td>0.0</td>\n",
       "      <td>0</td>\n",
       "    </tr>\n",
       "    <tr>\n",
       "      <th>3</th>\n",
       "      <td>2</td>\n",
       "      <td>wifi, instagram, twitter, whatsapp, etc, app, ...</td>\n",
       "      <td>3.0</td>\n",
       "      <td>wifi internet mail google; instagram twitter w...</td>\n",
       "    </tr>\n",
       "    <tr>\n",
       "      <th>4</th>\n",
       "      <td>2</td>\n",
       "      <td>fb, dm, offline, inbox, skype, insta, chat</td>\n",
       "      <td>1.0</td>\n",
       "      <td>dm chat inbox skype insta offline fb</td>\n",
       "    </tr>\n",
       "    <tr>\n",
       "      <th>5</th>\n",
       "      <td>2</td>\n",
       "      <td>sont, qui, ils, ont</td>\n",
       "      <td>0.0</td>\n",
       "      <td>0</td>\n",
       "    </tr>\n",
       "    <tr>\n",
       "      <th>6</th>\n",
       "      <td>2</td>\n",
       "      <td>gostei, nessa, á, é, nova, uma, tempo, eles, s...</td>\n",
       "      <td>0.0</td>\n",
       "      <td>0</td>\n",
       "    </tr>\n",
       "    <tr>\n",
       "      <th>7</th>\n",
       "      <td>2</td>\n",
       "      <td>aff, sai, ja, mae, rs, alo, mor, dai, irma, bj...</td>\n",
       "      <td>0.0</td>\n",
       "      <td>0</td>\n",
       "    </tr>\n",
       "    <tr>\n",
       "      <th>8</th>\n",
       "      <td>2</td>\n",
       "      <td>emojis, interactions, imessage, contacts, mess...</td>\n",
       "      <td>1.0</td>\n",
       "      <td>imessages messages notification emails loading...</td>\n",
       "    </tr>\n",
       "    <tr>\n",
       "      <th>9</th>\n",
       "      <td>2</td>\n",
       "      <td>jt, rm, rb, rp, item, pcs</td>\n",
       "      <td>0.0</td>\n",
       "      <td>0</td>\n",
       "    </tr>\n",
       "    <tr>\n",
       "      <th>10</th>\n",
       "      <td>2</td>\n",
       "      <td>diva, anita, anna, nina, vanessa, tia, tati, a...</td>\n",
       "      <td>2.0</td>\n",
       "      <td>anita anna nina tia tati bianca laura maria ro...</td>\n",
       "    </tr>\n",
       "    <tr>\n",
       "      <th>11</th>\n",
       "      <td>2</td>\n",
       "      <td>bf, ex, gf, ain, crush</td>\n",
       "      <td>2.0</td>\n",
       "      <td>bf ex gf; ain crush</td>\n",
       "    </tr>\n",
       "    <tr>\n",
       "      <th>12</th>\n",
       "      <td>2</td>\n",
       "      <td>bando, macho, gringo, negro, mono, chino</td>\n",
       "      <td>2.0</td>\n",
       "      <td>gringo negro chino; bando macho mono</td>\n",
       "    </tr>\n",
       "    <tr>\n",
       "      <th>13</th>\n",
       "      <td>2</td>\n",
       "      <td>harry, mila, styles, naya, lux, lou, malik, lo...</td>\n",
       "      <td>3.0</td>\n",
       "      <td>harry mila naya malik louis payne lou; hacked ...</td>\n",
       "    </tr>\n",
       "    <tr>\n",
       "      <th>14</th>\n",
       "      <td>2</td>\n",
       "      <td>retweeted, deactivate, unblocked, unfollowed, ...</td>\n",
       "      <td>1.0</td>\n",
       "      <td>retweeted deactivate unblocked unfollowed unfr...</td>\n",
       "    </tr>\n",
       "    <tr>\n",
       "      <th>15</th>\n",
       "      <td>2</td>\n",
       "      <td>ans, belle, fait, était, montre, encore, petit...</td>\n",
       "      <td>0.0</td>\n",
       "      <td>0</td>\n",
       "    </tr>\n",
       "    <tr>\n",
       "      <th>16</th>\n",
       "      <td>2</td>\n",
       "      <td>android, samsung, gadget, gb, auto, ipad, gala...</td>\n",
       "      <td>4.0</td>\n",
       "      <td>samsung apple galaxy pc; ipad ipod mini iphone...</td>\n",
       "    </tr>\n",
       "    <tr>\n",
       "      <th>17</th>\n",
       "      <td>2</td>\n",
       "      <td>adorable, cutie, pic, gorgeous, handsome, sexy...</td>\n",
       "      <td>4.0</td>\n",
       "      <td>adorable cutie cute sweet; pic avi perf; gorge...</td>\n",
       "    </tr>\n",
       "    <tr>\n",
       "      <th>18</th>\n",
       "      <td>2</td>\n",
       "      <td>pau, ate, rum, vaca, mole, tweet, mention, spa...</td>\n",
       "      <td>4.0</td>\n",
       "      <td>unfollow tweet twit mention spam; vaca rum ate...</td>\n",
       "    </tr>\n",
       "    <tr>\n",
       "      <th>19</th>\n",
       "      <td>2</td>\n",
       "      <td>real, swag, hot, fake, old, gay, like</td>\n",
       "      <td>2.0</td>\n",
       "      <td>fake old gay; real swag hot like</td>\n",
       "    </tr>\n",
       "    <tr>\n",
       "      <th>20</th>\n",
       "      <td>3</td>\n",
       "      <td>haself, hungova, shleeep</td>\n",
       "      <td>2.0</td>\n",
       "      <td>hungova shleeep; haself</td>\n",
       "    </tr>\n",
       "    <tr>\n",
       "      <th>21</th>\n",
       "      <td>3</td>\n",
       "      <td>deza, lola, c.o</td>\n",
       "      <td>0.0</td>\n",
       "      <td>0</td>\n",
       "    </tr>\n",
       "    <tr>\n",
       "      <th>22</th>\n",
       "      <td>3</td>\n",
       "      <td>bme, alc, bmg</td>\n",
       "      <td>2.0</td>\n",
       "      <td>bme bmg; alc</td>\n",
       "    </tr>\n",
       "    <tr>\n",
       "      <th>23</th>\n",
       "      <td>3</td>\n",
       "      <td>raveen, quanda, shamira</td>\n",
       "      <td>2.0</td>\n",
       "      <td>raveen; quanda shamira</td>\n",
       "    </tr>\n",
       "    <tr>\n",
       "      <th>24</th>\n",
       "      <td>3</td>\n",
       "      <td>shavon, olda, tameka</td>\n",
       "      <td>2.0</td>\n",
       "      <td>shavon tameka; olda</td>\n",
       "    </tr>\n",
       "    <tr>\n",
       "      <th>25</th>\n",
       "      <td>3</td>\n",
       "      <td>follwing, joinin, ffback</td>\n",
       "      <td>2.0</td>\n",
       "      <td>follwing ffback; joinin</td>\n",
       "    </tr>\n",
       "    <tr>\n",
       "      <th>26</th>\n",
       "      <td>3</td>\n",
       "      <td>suit, front, plush, cocoon</td>\n",
       "      <td>2.0</td>\n",
       "      <td>suit front plush; cocoon</td>\n",
       "    </tr>\n",
       "    <tr>\n",
       "      <th>27</th>\n",
       "      <td>3</td>\n",
       "      <td>awfull, incomprehensible, inhabitants</td>\n",
       "      <td>2.0</td>\n",
       "      <td>awfull incomprehensible; inhabitants</td>\n",
       "    </tr>\n",
       "    <tr>\n",
       "      <th>28</th>\n",
       "      <td>3</td>\n",
       "      <td>awn, thais, chamar</td>\n",
       "      <td>0.0</td>\n",
       "      <td>0</td>\n",
       "    </tr>\n",
       "    <tr>\n",
       "      <th>29</th>\n",
       "      <td>3</td>\n",
       "      <td>carlin, t., b.</td>\n",
       "      <td>0.0</td>\n",
       "      <td>0</td>\n",
       "    </tr>\n",
       "    <tr>\n",
       "      <th>30</th>\n",
       "      <td>3</td>\n",
       "      <td>gaga, vote, gq</td>\n",
       "      <td>0.0</td>\n",
       "      <td>0</td>\n",
       "    </tr>\n",
       "    <tr>\n",
       "      <th>31</th>\n",
       "      <td>3</td>\n",
       "      <td>hilfiger, unisex, linen, satin</td>\n",
       "      <td>2.0</td>\n",
       "      <td>hilfiger unisex; linen satin</td>\n",
       "    </tr>\n",
       "    <tr>\n",
       "      <th>32</th>\n",
       "      <td>3</td>\n",
       "      <td>shootah, hyz, bizz, bakk</td>\n",
       "      <td>3.0</td>\n",
       "      <td>shootah bakk; hyz; bizz</td>\n",
       "    </tr>\n",
       "    <tr>\n",
       "      <th>33</th>\n",
       "      <td>3</td>\n",
       "      <td>emah, erny, mayda</td>\n",
       "      <td>0.0</td>\n",
       "      <td>0</td>\n",
       "    </tr>\n",
       "    <tr>\n",
       "      <th>34</th>\n",
       "      <td>3</td>\n",
       "      <td>darrion, jaylon, kamiyah, gavee, kalls, jalissa</td>\n",
       "      <td>3.0</td>\n",
       "      <td>darrion jaylon kamiyah jalissa; gavee; kalls</td>\n",
       "    </tr>\n",
       "    <tr>\n",
       "      <th>35</th>\n",
       "      <td>3</td>\n",
       "      <td>verda, estas, borde</td>\n",
       "      <td>0.0</td>\n",
       "      <td>0</td>\n",
       "    </tr>\n",
       "    <tr>\n",
       "      <th>36</th>\n",
       "      <td>3</td>\n",
       "      <td>using, graph, tracking</td>\n",
       "      <td>2.0</td>\n",
       "      <td>using; graph tracking</td>\n",
       "    </tr>\n",
       "    <tr>\n",
       "      <th>37</th>\n",
       "      <td>3</td>\n",
       "      <td>ivona, mybae, qit, antie</td>\n",
       "      <td>0.0</td>\n",
       "      <td>0</td>\n",
       "    </tr>\n",
       "    <tr>\n",
       "      <th>38</th>\n",
       "      <td>3</td>\n",
       "      <td>sedikit, abiakan, jareka</td>\n",
       "      <td>0.0</td>\n",
       "      <td>0</td>\n",
       "    </tr>\n",
       "    <tr>\n",
       "      <th>39</th>\n",
       "      <td>3</td>\n",
       "      <td>demonic, depraved, hyena</td>\n",
       "      <td>2.0</td>\n",
       "      <td>demonic depraved; hyena</td>\n",
       "    </tr>\n",
       "  </tbody>\n",
       "</table>\n",
       "</div>"
      ],
      "text/plain": [
       "    corpus                                            cluster  num_clusters  \\\n",
       "0        2                                     dms, msgs, msg           1.0   \n",
       "1        2                       em, do, moro, na, nas, da, e           4.0   \n",
       "2        2  logo, num, os, com, um, outro, belo, mone, ou,...           0.0   \n",
       "3        2  wifi, instagram, twitter, whatsapp, etc, app, ...           3.0   \n",
       "4        2         fb, dm, offline, inbox, skype, insta, chat           1.0   \n",
       "5        2                                sont, qui, ils, ont           0.0   \n",
       "6        2  gostei, nessa, á, é, nova, uma, tempo, eles, s...           0.0   \n",
       "7        2  aff, sai, ja, mae, rs, alo, mor, dai, irma, bj...           0.0   \n",
       "8        2  emojis, interactions, imessage, contacts, mess...           1.0   \n",
       "9        2                          jt, rm, rb, rp, item, pcs           0.0   \n",
       "10       2  diva, anita, anna, nina, vanessa, tia, tati, a...           2.0   \n",
       "11       2                             bf, ex, gf, ain, crush           2.0   \n",
       "12       2           bando, macho, gringo, negro, mono, chino           2.0   \n",
       "13       2  harry, mila, styles, naya, lux, lou, malik, lo...           3.0   \n",
       "14       2  retweeted, deactivate, unblocked, unfollowed, ...           1.0   \n",
       "15       2  ans, belle, fait, était, montre, encore, petit...           0.0   \n",
       "16       2  android, samsung, gadget, gb, auto, ipad, gala...           4.0   \n",
       "17       2  adorable, cutie, pic, gorgeous, handsome, sexy...           4.0   \n",
       "18       2  pau, ate, rum, vaca, mole, tweet, mention, spa...           4.0   \n",
       "19       2              real, swag, hot, fake, old, gay, like           2.0   \n",
       "20       3                           haself, hungova, shleeep           2.0   \n",
       "21       3                                    deza, lola, c.o           0.0   \n",
       "22       3                                      bme, alc, bmg           2.0   \n",
       "23       3                            raveen, quanda, shamira           2.0   \n",
       "24       3                               shavon, olda, tameka           2.0   \n",
       "25       3                           follwing, joinin, ffback           2.0   \n",
       "26       3                         suit, front, plush, cocoon           2.0   \n",
       "27       3              awfull, incomprehensible, inhabitants           2.0   \n",
       "28       3                                 awn, thais, chamar           0.0   \n",
       "29       3                                     carlin, t., b.           0.0   \n",
       "30       3                                     gaga, vote, gq           0.0   \n",
       "31       3                     hilfiger, unisex, linen, satin           2.0   \n",
       "32       3                           shootah, hyz, bizz, bakk           3.0   \n",
       "33       3                                  emah, erny, mayda           0.0   \n",
       "34       3    darrion, jaylon, kamiyah, gavee, kalls, jalissa           3.0   \n",
       "35       3                                verda, estas, borde           0.0   \n",
       "36       3                             using, graph, tracking           2.0   \n",
       "37       3                           ivona, mybae, qit, antie           0.0   \n",
       "38       3                           sedikit, abiakan, jareka           0.0   \n",
       "39       3                           demonic, depraved, hyena           2.0   \n",
       "\n",
       "                                          new_cluster  \n",
       "0                                        dms msgs msg  \n",
       "1                           do em da; na nas; moro; e  \n",
       "2                                                   0  \n",
       "3   wifi internet mail google; instagram twitter w...  \n",
       "4                dm chat inbox skype insta offline fb  \n",
       "5                                                   0  \n",
       "6                                                   0  \n",
       "7                                                   0  \n",
       "8   imessages messages notification emails loading...  \n",
       "9                                                   0  \n",
       "10  anita anna nina tia tati bianca laura maria ro...  \n",
       "11                                bf ex gf; ain crush  \n",
       "12               gringo negro chino; bando macho mono  \n",
       "13  harry mila naya malik louis payne lou; hacked ...  \n",
       "14  retweeted deactivate unblocked unfollowed unfr...  \n",
       "15                                                  0  \n",
       "16  samsung apple galaxy pc; ipad ipod mini iphone...  \n",
       "17  adorable cutie cute sweet; pic avi perf; gorge...  \n",
       "18  unfollow tweet twit mention spam; vaca rum ate...  \n",
       "19                   fake old gay; real swag hot like  \n",
       "20                            hungova shleeep; haself  \n",
       "21                                                  0  \n",
       "22                                       bme bmg; alc  \n",
       "23                             raveen; quanda shamira  \n",
       "24                                shavon tameka; olda  \n",
       "25                            follwing ffback; joinin  \n",
       "26                           suit front plush; cocoon  \n",
       "27               awfull incomprehensible; inhabitants  \n",
       "28                                                  0  \n",
       "29                                                  0  \n",
       "30                                                  0  \n",
       "31                       hilfiger unisex; linen satin  \n",
       "32                            shootah bakk; hyz; bizz  \n",
       "33                                                  0  \n",
       "34       darrion jaylon kamiyah jalissa; gavee; kalls  \n",
       "35                                                  0  \n",
       "36                              using; graph tracking  \n",
       "37                                                  0  \n",
       "38                                                  0  \n",
       "39                            demonic depraved; hyena  "
      ]
     },
     "execution_count": 36,
     "metadata": {},
     "output_type": "execute_result"
    }
   ],
   "source": [
    "wf"
   ]
  },
  {
   "cell_type": "code",
   "execution_count": null,
   "metadata": {},
   "outputs": [],
   "source": []
  }
 ],
 "metadata": {
  "kernelspec": {
   "display_name": "slang",
   "language": "python",
   "name": "slang"
  },
  "language_info": {
   "codemirror_mode": {
    "name": "ipython",
    "version": 3
   },
   "file_extension": ".py",
   "mimetype": "text/x-python",
   "name": "python",
   "nbconvert_exporter": "python",
   "pygments_lexer": "ipython3",
   "version": "3.6.7"
  }
 },
 "nbformat": 4,
 "nbformat_minor": 2
}
